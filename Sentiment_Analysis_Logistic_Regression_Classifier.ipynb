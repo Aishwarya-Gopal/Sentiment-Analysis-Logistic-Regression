{
 "cells": [
  {
   "cell_type": "markdown",
   "metadata": {},
   "source": [
    "### Sentiment_Analysis_Logistic_Regression_Classifier"
   ]
  },
  {
   "cell_type": "markdown",
   "metadata": {},
   "source": [
    "#### Sentiment Analysis with Mobile review data from Amazon https://www.kaggle.com/PromptCloudHQ/amazon-reviews-unlocked-mobile-phones"
   ]
  },
  {
   "cell_type": "markdown",
   "metadata": {},
   "source": [
    "### Packages Imports"
   ]
  },
  {
   "cell_type": "code",
   "execution_count": 10,
   "metadata": {
    "scrolled": false
   },
   "outputs": [
    {
     "name": "stderr",
     "output_type": "stream",
     "text": [
      "[nltk_data] Downloading package stopwords to\n",
      "[nltk_data]     C:\\Users\\Aishwarya\\AppData\\Roaming\\nltk_data...\n",
      "[nltk_data]   Package stopwords is already up-to-date!\n"
     ]
    }
   ],
   "source": [
    "# packages imports\n",
    "\n",
    "import pandas as pd\n",
    "import re\n",
    "\n",
    "# plotting libraries\n",
    "import numpy as np\n",
    "import seaborn as sns\n",
    "import matplotlib as plt\n",
    "%matplotlib inline\n",
    "plt.style.use('ggplot')\n",
    "\n",
    "# model training related packages\n",
    "from sklearn.model_selection import train_test_split\n",
    "from sklearn.feature_extraction.text import TfidfVectorizer\n",
    "from sklearn.linear_model import LogisticRegression\n",
    "from sklearn.metrics import roc_auc_score,roc_curve\n",
    "\n",
    "# natural language toolkit packages\n",
    "import nltk\n",
    "nltk.download('stopwords')\n",
    "from nltk.corpus import stopwords\n",
    "from nltk.stem import PorterStemmer\n",
    "from nltk.stem import WordNetLemmatizer\n",
    "\n",
    "# saving model\n",
    "import pickle"
   ]
  },
  {
   "cell_type": "code",
   "execution_count": 11,
   "metadata": {},
   "outputs": [],
   "source": [
    "#convert jupyter notebook into html file\n",
    "# !jupyter nbconvert --to html Sentiment_Analysis_Logistic_Regression_Classifier.ipynb"
   ]
  },
  {
   "cell_type": "markdown",
   "metadata": {},
   "source": [
    "### Reading Data from CSV file"
   ]
  },
  {
   "cell_type": "code",
   "execution_count": 12,
   "metadata": {},
   "outputs": [
    {
     "data": {
      "text/html": [
       "<div>\n",
       "<style scoped>\n",
       "    .dataframe tbody tr th:only-of-type {\n",
       "        vertical-align: middle;\n",
       "    }\n",
       "\n",
       "    .dataframe tbody tr th {\n",
       "        vertical-align: top;\n",
       "    }\n",
       "\n",
       "    .dataframe thead th {\n",
       "        text-align: right;\n",
       "    }\n",
       "</style>\n",
       "<table border=\"1\" class=\"dataframe\">\n",
       "  <thead>\n",
       "    <tr style=\"text-align: right;\">\n",
       "      <th></th>\n",
       "      <th>rating</th>\n",
       "      <th>review</th>\n",
       "    </tr>\n",
       "  </thead>\n",
       "  <tbody>\n",
       "    <tr>\n",
       "      <th>0</th>\n",
       "      <td>5</td>\n",
       "      <td>feel lucky found used phone u not used hard ph...</td>\n",
       "    </tr>\n",
       "    <tr>\n",
       "      <th>1</th>\n",
       "      <td>4</td>\n",
       "      <td>nice phone nice grade pantach revue clean set ...</td>\n",
       "    </tr>\n",
       "    <tr>\n",
       "      <th>2</th>\n",
       "      <td>5</td>\n",
       "      <td>pleased</td>\n",
       "    </tr>\n",
       "    <tr>\n",
       "      <th>3</th>\n",
       "      <td>4</td>\n",
       "      <td>work good go slow sometimes good phone love</td>\n",
       "    </tr>\n",
       "    <tr>\n",
       "      <th>4</th>\n",
       "      <td>4</td>\n",
       "      <td>great phone replace lost phone thing volume bu...</td>\n",
       "    </tr>\n",
       "  </tbody>\n",
       "</table>\n",
       "</div>"
      ],
      "text/plain": [
       "   rating                                             review\n",
       "0       5  feel lucky found used phone u not used hard ph...\n",
       "1       4  nice phone nice grade pantach revue clean set ...\n",
       "2       5                                            pleased\n",
       "3       4        work good go slow sometimes good phone love\n",
       "4       4  great phone replace lost phone thing volume bu..."
      ]
     },
     "execution_count": 12,
     "metadata": {},
     "output_type": "execute_result"
    }
   ],
   "source": [
    "# importing the dataset using Pandas and creating a dataframe\n",
    "df = pd.read_csv(\"Cleaned_mobile_unlocked.csv\")\n",
    "df.drop(\"Unnamed: 0\", axis=1, inplace=True)\n",
    "#viewing the first five records of the dataframe\n",
    "df.head()"
   ]
  },
  {
   "cell_type": "code",
   "execution_count": 13,
   "metadata": {},
   "outputs": [
    {
     "name": "stdout",
     "output_type": "stream",
     "text": [
      "feel lucky found used phone u not used hard phone line someone upgraded sold one son liked old one finally fell apart 2 5 year didn want upgrade thank seller really appreciate honesty said used phone recommend seller highly would\n",
      "\n",
      "\n",
      "nice phone nice grade pantach revue clean set easy set never android phone fantastic say least perfect size surfing social medium great phone samsung\n",
      "\n",
      "\n",
      "pleased\n",
      "\n",
      "\n",
      "work good go slow sometimes good phone love\n",
      "\n",
      "\n",
      "great phone replace lost phone thing volume button not work still go setting adjust job eligible upgrade phone thaanks\n",
      "\n",
      "\n"
     ]
    }
   ],
   "source": [
    "# displaying the first five entries of the review column\n",
    "for text in df['review'].head(5):\n",
    "    print(text)\n",
    "    print('\\n')"
   ]
  },
  {
   "cell_type": "markdown",
   "metadata": {},
   "source": [
    "### Viewing and Analyzing the data"
   ]
  },
  {
   "cell_type": "code",
   "execution_count": 14,
   "metadata": {
    "scrolled": true
   },
   "outputs": [
    {
     "data": {
      "text/plain": [
       "5    223580\n",
       "1     72337\n",
       "4     61374\n",
       "3     31763\n",
       "2     24724\n",
       "Name: rating, dtype: int64"
      ]
     },
     "execution_count": 14,
     "metadata": {},
     "output_type": "execute_result"
    }
   ],
   "source": [
    "# viewing the distribution of the ratings across the dataframes\n",
    "df.rating.value_counts()"
   ]
  },
  {
   "cell_type": "code",
   "execution_count": 15,
   "metadata": {},
   "outputs": [
    {
     "data": {
      "text/plain": [
       "<matplotlib.axes._subplots.AxesSubplot at 0x213eab644c8>"
      ]
     },
     "execution_count": 15,
     "metadata": {},
     "output_type": "execute_result"
    },
    {
     "data": {
      "image/png": "[encoded data removed]",
      "text/plain": [
       "<Figure size 432x288 with 1 Axes>"
      ]
     },
     "metadata": {},
     "output_type": "display_data"
    }
   ],
   "source": [
    "# plotting the distribution of the ratings across the dataframes\n",
    "sns.countplot(df['rating'])"
   ]
  },
  {
   "cell_type": "markdown",
   "metadata": {},
   "source": [
    "### Data Preprocessing"
   ]
  },
  {
   "cell_type": "code",
   "execution_count": 16,
   "metadata": {},
   "outputs": [
    {
     "data": {
      "text/html": [
       "<div>\n",
       "<style scoped>\n",
       "    .dataframe tbody tr th:only-of-type {\n",
       "        vertical-align: middle;\n",
       "    }\n",
       "\n",
       "    .dataframe tbody tr th {\n",
       "        vertical-align: top;\n",
       "    }\n",
       "\n",
       "    .dataframe thead th {\n",
       "        text-align: right;\n",
       "    }\n",
       "</style>\n",
       "<table border=\"1\" class=\"dataframe\">\n",
       "  <thead>\n",
       "    <tr style=\"text-align: right;\">\n",
       "      <th></th>\n",
       "      <th>rating</th>\n",
       "      <th>review</th>\n",
       "      <th>positivity</th>\n",
       "    </tr>\n",
       "  </thead>\n",
       "  <tbody>\n",
       "    <tr>\n",
       "      <th>0</th>\n",
       "      <td>5</td>\n",
       "      <td>feel lucky found used phone u not used hard ph...</td>\n",
       "      <td>1</td>\n",
       "    </tr>\n",
       "    <tr>\n",
       "      <th>1</th>\n",
       "      <td>4</td>\n",
       "      <td>nice phone nice grade pantach revue clean set ...</td>\n",
       "      <td>1</td>\n",
       "    </tr>\n",
       "    <tr>\n",
       "      <th>2</th>\n",
       "      <td>5</td>\n",
       "      <td>pleased</td>\n",
       "      <td>1</td>\n",
       "    </tr>\n",
       "    <tr>\n",
       "      <th>3</th>\n",
       "      <td>4</td>\n",
       "      <td>work good go slow sometimes good phone love</td>\n",
       "      <td>1</td>\n",
       "    </tr>\n",
       "    <tr>\n",
       "      <th>4</th>\n",
       "      <td>4</td>\n",
       "      <td>great phone replace lost phone thing volume bu...</td>\n",
       "      <td>1</td>\n",
       "    </tr>\n",
       "    <tr>\n",
       "      <th>5</th>\n",
       "      <td>1</td>\n",
       "      <td>already phone problem know stated used dang no...</td>\n",
       "      <td>0</td>\n",
       "    </tr>\n",
       "    <tr>\n",
       "      <th>6</th>\n",
       "      <td>2</td>\n",
       "      <td>charging port loose got soldered needed new ba...</td>\n",
       "      <td>0</td>\n",
       "    </tr>\n",
       "    <tr>\n",
       "      <th>7</th>\n",
       "      <td>2</td>\n",
       "      <td>phone look good wouldn stay charged buy new ba...</td>\n",
       "      <td>0</td>\n",
       "    </tr>\n",
       "    <tr>\n",
       "      <th>8</th>\n",
       "      <td>5</td>\n",
       "      <td>originally using samsung s2 galaxy sprint want...</td>\n",
       "      <td>1</td>\n",
       "    </tr>\n",
       "    <tr>\n",
       "      <th>11</th>\n",
       "      <td>5</td>\n",
       "      <td>great product came two day ordering one little...</td>\n",
       "      <td>1</td>\n",
       "    </tr>\n",
       "  </tbody>\n",
       "</table>\n",
       "</div>"
      ],
      "text/plain": [
       "    rating                                             review  positivity\n",
       "0        5  feel lucky found used phone u not used hard ph...           1\n",
       "1        4  nice phone nice grade pantach revue clean set ...           1\n",
       "2        5                                            pleased           1\n",
       "3        4        work good go slow sometimes good phone love           1\n",
       "4        4  great phone replace lost phone thing volume bu...           1\n",
       "5        1  already phone problem know stated used dang no...           0\n",
       "6        2  charging port loose got soldered needed new ba...           0\n",
       "7        2  phone look good wouldn stay charged buy new ba...           0\n",
       "8        5  originally using samsung s2 galaxy sprint want...           1\n",
       "11       5  great product came two day ordering one little...           1"
      ]
     },
     "execution_count": 16,
     "metadata": {},
     "output_type": "execute_result"
    }
   ],
   "source": [
    "# filtering out the neutral reviews\n",
    "df = df[df['rating']!=3]\n",
    "\n",
    "#Encode 4 star and 5 star as positively rated 1.\n",
    "#Encode 1 star and 2 star as poorely rated 0.\n",
    "df['positivity'] = np.where(df['rating']>3,1,0)\n",
    "df.head(10)"
   ]
  },
  {
   "cell_type": "code",
   "execution_count": 17,
   "metadata": {},
   "outputs": [],
   "source": [
    "# tokenizing and stemming the reviews field \n",
    "def stem_text(text):\n",
    "    w_tokenizer = nltk.tokenize.WhitespaceTokenizer()\n",
    "    stemmer = PorterStemmer()\n",
    "    return \" \".join([stemmer.stem(w) for w in w_tokenizer.tokenize(text)])\n",
    "\n",
    "# creating the feature field and the target field\n",
    "X = pd.Series(data=[stem_text(text) for text in df['review'].values.astype(str)],index=df['positivity'].index)\n",
    "y = df['positivity']\n"
   ]
  },
  {
   "cell_type": "markdown",
   "metadata": {},
   "source": [
    "### Train test split"
   ]
  },
  {
   "cell_type": "code",
   "execution_count": 18,
   "metadata": {},
   "outputs": [
    {
     "name": "stdout",
     "output_type": "stream",
     "text": [
      "X shape (382015,)\n",
      "X_train shape (286511,)\n",
      "Y_train shape (286511,)\n",
      "X_test shape (95504,)\n",
      "Y_test shape (95504,)\n"
     ]
    }
   ],
   "source": [
    "#spliting data into training and test set.\n",
    "X_train,X_test,y_train,y_test = train_test_split(X,y,stratify=y,random_state=42)\n",
    "print('X shape',X.shape)\n",
    "print('X_train shape',X_train.shape)\n",
    "print('Y_train shape',y_train.shape)\n",
    "print('X_test shape',X_test.shape)\n",
    "print('Y_test shape',y_test.shape)"
   ]
  },
  {
   "cell_type": "code",
   "execution_count": 20,
   "metadata": {},
   "outputs": [
    {
     "data": {
      "text/plain": [
       "TfidfVectorizer(min_df=5, ngram_range=(1, 3))"
      ]
     },
     "execution_count": 20,
     "metadata": {},
     "output_type": "execute_result"
    }
   ],
   "source": [
    "# creating the tfidf vectorizer for making the feature vector\n",
    "vect = TfidfVectorizer(ngram_range=(1,3), min_df=5)\n",
    "vect.fit(X_train.values.astype(str))"
   ]
  },
  {
   "cell_type": "code",
   "execution_count": 21,
   "metadata": {
    "scrolled": false
   },
   "outputs": [
    {
     "data": {
      "text/plain": [
       "['00',\n",
       " '18th amazon unfortun',\n",
       " '32gig storag',\n",
       " '60 day',\n",
       " 'abl reproduc',\n",
       " 'activ le',\n",
       " 'advanc call',\n",
       " 'almost 10',\n",
       " 'also receiv time',\n",
       " 'amazon contact seller',\n",
       " 'android though',\n",
       " 'anyth samsung',\n",
       " 'app store not',\n",
       " 'armorflex case',\n",
       " 'attach phone',\n",
       " 'awesom simpl',\n",
       " 'bad given pro',\n",
       " 'batteri die month',\n",
       " 'beat great',\n",
       " 'best valu get',\n",
       " 'bigger button',\n",
       " 'blown away',\n",
       " 'bought amazon not',\n",
       " 'box shelf',\n",
       " 'brows experi',\n",
       " 'button slower',\n",
       " 'cach etc',\n",
       " 'came everythin',\n",
       " 'camera primari lens',\n",
       " 'card good magnet',\n",
       " 'carrier use',\n",
       " 'cellphon also',\n",
       " 'charg longer hour',\n",
       " 'cheap replac',\n",
       " 'clear end',\n",
       " 'come close batteri',\n",
       " 'compar reason',\n",
       " 'con touch',\n",
       " 'consid purchas',\n",
       " 'corner also',\n",
       " 'countri market no',\n",
       " 'crystal clear screen',\n",
       " 'data old samsung',\n",
       " 'day suggest',\n",
       " 'decir una',\n",
       " 'describ deliv',\n",
       " 'devic not charg',\n",
       " 'differ part',\n",
       " 'display iphon small',\n",
       " 'dose',\n",
       " 'due heavi',\n",
       " 'easili cover',\n",
       " 'email document',\n",
       " 'enough see',\n",
       " 'european charger doesn',\n",
       " 'ever play',\n",
       " 'exactli said phone',\n",
       " 'expect anyth lot',\n",
       " 'extra link',\n",
       " 'familiar whole android',\n",
       " 'fast processor 32gb',\n",
       " 'feedback phone',\n",
       " 'find mark',\n",
       " 'first phone problem',\n",
       " 'floor work',\n",
       " 'free text',\n",
       " 'funcional de un',\n",
       " 'garbag return mine',\n",
       " 'get internet side',\n",
       " 'girl gone',\n",
       " 'go gift asu',\n",
       " 'good enough use',\n",
       " 'good tri catch',\n",
       " 'got stuck took',\n",
       " 'great featur not',\n",
       " 'great that',\n",
       " 'hand love marshmallow',\n",
       " 'hardwar iphon',\n",
       " 'heavi phone bicycl',\n",
       " 'hold true data',\n",
       " 'hour realli love',\n",
       " 'id live',\n",
       " 'includ hard reset',\n",
       " 'instal phone work',\n",
       " 'invest unless readi',\n",
       " 'iphone6 found big',\n",
       " 'item question not',\n",
       " 'kept phone cool',\n",
       " 'know skeptic get',\n",
       " 'last four',\n",
       " 'leather case neither',\n",
       " 'life ive',\n",
       " 'like first got',\n",
       " 'like would not',\n",
       " 'live not far',\n",
       " 'long side box',\n",
       " 'lose anoth',\n",
       " 'love interact',\n",
       " 'lte yet',\n",
       " 'make million phone',\n",
       " 'map web',\n",
       " 'meet expect awe',\n",
       " 'miami alway happi',\n",
       " 'mirco',\n",
       " 'model tough',\n",
       " 'month refus',\n",
       " 'much exchang moto',\n",
       " 'name set fine',\n",
       " 'need without pay',\n",
       " 'new cord',\n",
       " 'nexu moto',\n",
       " 'no contact',\n",
       " 'no usabl memori',\n",
       " 'not carri phone',\n",
       " 'not like everyon',\n",
       " 'not sure realli',\n",
       " 'notic defect',\n",
       " 'often sinc',\n",
       " 'one despit',\n",
       " 'one week',\n",
       " 'order continu',\n",
       " 'overal even',\n",
       " 'pain take',\n",
       " 'pc use',\n",
       " 'perfectli no complain',\n",
       " 'phone also purchas',\n",
       " 'phone charg check',\n",
       " 'phone fall wasn',\n",
       " 'phone inspect fact',\n",
       " 'phone never suddenli',\n",
       " 'phone promis unlock',\n",
       " 'phone spend littl',\n",
       " 'phone week yet',\n",
       " 'pictur moment',\n",
       " 'play game ok',\n",
       " 'pocket batteri life',\n",
       " 'potenti know come',\n",
       " 'prevent take good',\n",
       " 'print sticker match',\n",
       " 'problem wi',\n",
       " 'product would like',\n",
       " 'public want',\n",
       " 'put idiot name',\n",
       " 'question 10',\n",
       " 'rang unlock',\n",
       " 'realli feel app',\n",
       " 'receiv disappoint phone',\n",
       " 'recommend phone one',\n",
       " 'reli instal',\n",
       " 'request via',\n",
       " 'return amazon well',\n",
       " 'right conclud note',\n",
       " 'run within',\n",
       " 'samsung great job',\n",
       " 'say problem',\n",
       " 'screen go crazi',\n",
       " 'scuff anyth',\n",
       " 'see univers bluetooth',\n",
       " 'seller sever',\n",
       " 'servic look',\n",
       " 'shape not',\n",
       " 'shut not work',\n",
       " 'sim run not',\n",
       " 'site give',\n",
       " 'slow basic',\n",
       " 'smartphon not work',\n",
       " 'someon make',\n",
       " 'sound cours type',\n",
       " 'speed get',\n",
       " 'stard',\n",
       " 'still load app',\n",
       " 'store set',\n",
       " 'suggest either deffinit',\n",
       " 'surf web laptop',\n",
       " 'take consider not',\n",
       " 'tecnolog',\n",
       " 'text surprisingli',\n",
       " 'thing waaay',\n",
       " 'three email account',\n",
       " 'time present',\n",
       " 'ton memori could',\n",
       " 'track inform',\n",
       " 'trivia',\n",
       " 'two main oper',\n",
       " 'unfunt stand hour',\n",
       " 'unsatisfi order sever',\n",
       " 'usa phone not',\n",
       " 'use h20 wireless',\n",
       " 'use snapdragon 820',\n",
       " 'variant not',\n",
       " 'vibrat no',\n",
       " 'wake work',\n",
       " 'warranti took',\n",
       " 'way earlier expect',\n",
       " 'weird hard',\n",
       " 'went within',\n",
       " 'window phone firstli',\n",
       " 'won run give',\n",
       " 'work grate',\n",
       " 'work suggest',\n",
       " 'would continu',\n",
       " 'wristband realiz',\n",
       " 'yet find']"
      ]
     },
     "execution_count": 21,
     "metadata": {},
     "output_type": "execute_result"
    }
   ],
   "source": [
    "#getting every 2000 vocabulay features.\n",
    "vect.get_feature_names()[::2000]"
   ]
  },
  {
   "cell_type": "code",
   "execution_count": 22,
   "metadata": {},
   "outputs": [
    {
     "data": {
      "text/plain": [
       "404853"
      ]
     },
     "execution_count": 22,
     "metadata": {},
     "output_type": "execute_result"
    }
   ],
   "source": [
    "#length of the feature vector\n",
    "len(vect.get_feature_names())"
   ]
  },
  {
   "cell_type": "code",
   "execution_count": 23,
   "metadata": {
    "scrolled": true
   },
   "outputs": [
    {
     "data": {
      "text/plain": [
       "<286511x404853 sparse matrix of type '<class 'numpy.float64'>'\n",
       "\twith 11027680 stored elements in Compressed Sparse Row format>"
      ]
     },
     "execution_count": 23,
     "metadata": {},
     "output_type": "execute_result"
    }
   ],
   "source": [
    "# transforming the feature vector\n",
    "X_train_vectorized = vect.transform(X_train.values.astype(str))\n",
    "X_train_vectorized"
   ]
  },
  {
   "cell_type": "code",
   "execution_count": 24,
   "metadata": {},
   "outputs": [],
   "source": [
    "with open(r\"C:\\Users\\Aishwarya\\PROJECTS\\NLP\\main\\V1\\models\\tfidf_vectorizer.pk\", 'wb') as fin:\n",
    "    pickle.dump(vect, fin)"
   ]
  },
  {
   "cell_type": "markdown",
   "metadata": {},
   "source": [
    "### Logistic Regression Classifier"
   ]
  },
  {
   "cell_type": "code",
   "execution_count": 29,
   "metadata": {},
   "outputs": [
    {
     "name": "stderr",
     "output_type": "stream",
     "text": [
      "C:\\Users\\Aishwarya\\.conda\\envs\\bujji\\lib\\site-packages\\sklearn\\linear_model\\_logistic.py:764: ConvergenceWarning: lbfgs failed to converge (status=1):\n",
      "STOP: TOTAL NO. of ITERATIONS REACHED LIMIT.\n",
      "\n",
      "Increase the number of iterations (max_iter) or scale the data as shown in:\n",
      "    https://scikit-learn.org/stable/modules/preprocessing.html\n",
      "Please also refer to the documentation for alternative solver options:\n",
      "    https://scikit-learn.org/stable/modules/linear_model.html#logistic-regression\n",
      "  extra_warning_msg=_LOGISTIC_SOLVER_CONVERGENCE_MSG)\n"
     ]
    },
    {
     "data": {
      "text/plain": [
       "LogisticRegression()"
      ]
     },
     "execution_count": 29,
     "metadata": {},
     "output_type": "execute_result"
    }
   ],
   "source": [
    "# creating the logistic regression model\n",
    "model_lr = LogisticRegression()\n",
    "model_lr.fit(X_train_vectorized,y_train)"
   ]
  },
  {
   "cell_type": "code",
   "execution_count": 30,
   "metadata": {},
   "outputs": [
    {
     "name": "stdout",
     "output_type": "stream",
     "text": [
      "AUC:  0.952014125232856\n"
     ]
    }
   ],
   "source": [
    "# predicting the test data and checking \n",
    "predictions_lr = model_lr.predict(vect.transform(X_test.values.astype(str)))\n",
    "AUC_lr = roc_auc_score(y_test,predictions_lr)\n",
    "print('AUC: ',roc_auc_score(y_test,predictions_lr))"
   ]
  },
  {
   "cell_type": "code",
   "execution_count": 31,
   "metadata": {},
   "outputs": [
    {
     "name": "stdout",
     "output_type": "stream",
     "text": [
      "Smallest Coefficient(Negative reviews): \n",
      "['not' 'return' 'disappoint' 'worst' 'not happi' 'horribl' 'poor'\n",
      " 'terribl' 'wast' 'not work']\n",
      "\n",
      "Largest Coeffiecient(Positive reviews): \n",
      "['love' 'great' 'excel' 'perfect' 'best' 'far' 'no problem' 'happi' 'amaz'\n",
      " 'easi']\n"
     ]
    }
   ],
   "source": [
    "# getting the feature names\n",
    "feature_names = np.array(vect.get_feature_names())\n",
    "\n",
    "# sort the coffecient from the model.\n",
    "sorted_coef_index = model_lr.coef_[0].argsort()\n",
    "\n",
    "'''Find the 10 smallest and 10 largest coefficients.\n",
    " The 10 largest coefficients are being indexed using [:-11:-1] \n",
    " so the list returned is in order of largest to smallest.'''\n",
    "\n",
    "print('Smallest Coefficient(Negative reviews): \\n{}\\n'.format(feature_names[sorted_coef_index[:10]]))\n",
    "print('Largest Coeffiecient(Positive reviews): \\n{}'.format(feature_names[sorted_coef_index[:-11:-1]]))"
   ]
  },
  {
   "cell_type": "code",
   "execution_count": 32,
   "metadata": {},
   "outputs": [],
   "source": [
    "filename = r'C:\\Users\\Aishwarya\\PROJECTS\\NLP\\main\\V1\\models\\model_lr_v1'\n",
    "pickle.dump(model_lr, open(filename, 'wb'))"
   ]
  },
  {
   "cell_type": "code",
   "execution_count": 47,
   "metadata": {},
   "outputs": [],
   "source": [
    "from sklearn.metrics import mean_squared_error"
   ]
  },
  {
   "cell_type": "code",
   "execution_count": 48,
   "metadata": {},
   "outputs": [
    {
     "data": {
      "text/plain": [
       "0.03331797621042051"
      ]
     },
     "execution_count": 48,
     "metadata": {},
     "output_type": "execute_result"
    }
   ],
   "source": [
    "mean_squared = mean_squared_error(y_test,predictions_lr)\n",
    "mean_squared"
   ]
  },
  {
   "cell_type": "code",
   "execution_count": 49,
   "metadata": {},
   "outputs": [],
   "source": [
    "from sklearn.metrics import accuracy_score"
   ]
  },
  {
   "cell_type": "code",
   "execution_count": 50,
   "metadata": {},
   "outputs": [
    {
     "data": {
      "text/plain": [
       "0.9666820237895795"
      ]
     },
     "execution_count": 50,
     "metadata": {},
     "output_type": "execute_result"
    }
   ],
   "source": [
    "accuracy_score(y_test,predictions_lr)"
   ]
  },
  {
   "cell_type": "markdown",
   "metadata": {},
   "source": [
    "### Instant run "
   ]
  },
  {
   "cell_type": "code",
   "execution_count": 51,
   "metadata": {},
   "outputs": [],
   "source": [
    "def stem_text(text):\n",
    "    stemmer = PorterStemmer()\n",
    "    return [\" \".join([stemmer.stem(w) for w in text.lower().split()])]\n",
    "\n",
    "def clean_and_remove_punctuations(text):\n",
    "    lemmatizer = WordNetLemmatizer() \n",
    "    row = re.sub(r\"[^a-zA-Z0-9]+\", ' ', text).lower().split()\n",
    "    lst = \" \".join([lemmatizer.lemmatize(x) for x in row])\n",
    "    return lst"
   ]
  },
  {
   "cell_type": "code",
   "execution_count": 52,
   "metadata": {},
   "outputs": [],
   "source": [
    "filename = r\"C:\\Users\\Aishwarya\\PROJECTS\\NLP\\main\\V1\\models\\model_lr_v1\"\n",
    "model_lr_v1 = pickle.load(open(filename, 'rb'))\n"
   ]
  },
  {
   "cell_type": "code",
   "execution_count": 53,
   "metadata": {},
   "outputs": [],
   "source": [
    "vect = pd.read_pickle(r\"C:\\Users\\Aishwarya\\PROJECTS\\NLP\\main\\V1\\models\\tfidf_vectorizer.pk\")"
   ]
  },
  {
   "cell_type": "code",
   "execution_count": 54,
   "metadata": {},
   "outputs": [
    {
     "name": "stdout",
     "output_type": "stream",
     "text": [
      "awesome\n",
      "[1]\n"
     ]
    }
   ],
   "source": [
    "text = \"awesome\"\n",
    "clean = clean_and_remove_punctuations(text)\n",
    "print(clean)\n",
    "result = model_lr_v1.predict(vect.transform(stem_text(clean)))\n",
    "print(result)"
   ]
  },
  {
   "cell_type": "code",
   "execution_count": null,
   "metadata": {},
   "outputs": [],
   "source": []
  },
  {
   "cell_type": "code",
   "execution_count": null,
   "metadata": {},
   "outputs": [],
   "source": []
  }
 ],
 "metadata": {
  "kernelspec": {
   "display_name": "Python 3",
   "language": "python",
   "name": "python3"
  },
  "language_info": {
   "codemirror_mode": {
    "name": "ipython",
    "version": 3
   },
   "file_extension": ".py",
   "mimetype": "text/x-python",
   "name": "python",
   "nbconvert_exporter": "python",
   "pygments_lexer": "ipython3",
   "version": "3.7.7"
  }
 },
 "nbformat": 4,
 "nbformat_minor": 4
}
